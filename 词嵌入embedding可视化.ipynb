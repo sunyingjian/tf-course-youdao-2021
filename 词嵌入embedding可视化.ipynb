{
  "nbformat": 4,
  "nbformat_minor": 0,
  "metadata": {
    "colab": {
      "name": "词嵌入embedding可视化.ipynb",
      "provenance": [],
      "collapsed_sections": [],
      "toc_visible": true,
      "authorship_tag": "ABX9TyN6nrUSZbdRn6CnB7tj83Yp",
      "include_colab_link": true
    },
    "kernelspec": {
      "name": "python3",
      "display_name": "Python 3"
    },
    "accelerator": "GPU"
  },
  "cells": [
    {
      "cell_type": "markdown",
      "metadata": {
        "id": "view-in-github",
        "colab_type": "text"
      },
      "source": [
        "<a href=\"https://colab.research.google.com/github/sunyingjian/tf-course-youdao-2021/blob/main/%E8%AF%8D%E5%B5%8C%E5%85%A5embedding%E5%8F%AF%E8%A7%86%E5%8C%96.ipynb\" target=\"_parent\"><img src=\"https://colab.research.google.com/assets/colab-badge.svg\" alt=\"Open In Colab\"/></a>"
      ]
    },
    {
      "cell_type": "markdown",
      "metadata": {
        "id": "mLlH1M2Zi-lQ"
      },
      "source": [
        "# 导入数据集"
      ]
    },
    {
      "cell_type": "code",
      "metadata": {
        "colab": {
          "base_uri": "https://localhost:8080/"
        },
        "id": "s6voB6fVi7Vp",
        "outputId": "7c30a0c3-8c22-4af9-e6a6-16e9e634f09c"
      },
      "source": [
        "! /opt/bin/nvidia-smi"
      ],
      "execution_count": 1,
      "outputs": [
        {
          "output_type": "stream",
          "text": [
            "Sat Feb 27 08:41:27 2021       \n",
            "+-----------------------------------------------------------------------------+\n",
            "| NVIDIA-SMI 460.32.03    Driver Version: 460.32.03    CUDA Version: 11.2     |\n",
            "|-------------------------------+----------------------+----------------------+\n",
            "| GPU  Name        Persistence-M| Bus-Id        Disp.A | Volatile Uncorr. ECC |\n",
            "| Fan  Temp  Perf  Pwr:Usage/Cap|         Memory-Usage | GPU-Util  Compute M. |\n",
            "|                               |                      |               MIG M. |\n",
            "|===============================+======================+======================|\n",
            "|   0  Tesla T4            Off  | 00000000:00:04.0 Off |                    0 |\n",
            "| N/A   37C    P8     9W /  70W |      0MiB / 15109MiB |      0%      Default |\n",
            "|                               |                      |                  N/A |\n",
            "+-------------------------------+----------------------+----------------------+\n",
            "                                                                               \n",
            "+-----------------------------------------------------------------------------+\n",
            "| Processes:                                                                  |\n",
            "|  GPU   GI   CI        PID   Type   Process name                  GPU Memory |\n",
            "|        ID   ID                                                   Usage      |\n",
            "|=============================================================================|\n",
            "|  No running processes found                                                 |\n",
            "+-----------------------------------------------------------------------------+\n"
          ],
          "name": "stdout"
        }
      ]
    },
    {
      "cell_type": "code",
      "metadata": {
        "id": "NJxSAZQMjHnm"
      },
      "source": [
        "import tensorflow as tf \r\n",
        "import tensorflow_datasets as tfds"
      ],
      "execution_count": 4,
      "outputs": []
    },
    {
      "cell_type": "code",
      "metadata": {
        "id": "QpadcwcmjNRM"
      },
      "source": [
        "imdb, info = tfds.load('imdb_reviews', with_info=True, as_supervised=True)"
      ],
      "execution_count": 5,
      "outputs": []
    },
    {
      "cell_type": "code",
      "metadata": {
        "id": "WvWNO3XHjfIY"
      },
      "source": [
        "#数据集被分为两部分25000做测试集，25000做训练集\r\n",
        "import numpy as np\r\n",
        "train_data, test_data = imdb['train'], imdb['test']"
      ],
      "execution_count": 6,
      "outputs": []
    },
    {
      "cell_type": "code",
      "metadata": {
        "id": "N-FuOSkTj9Q0"
      },
      "source": [
        "#储存训练数据与测试数据中的句子与标签\r\n",
        "training_sentences = []\r\n",
        "training_labels = []\r\n",
        "testing_sentences = []\r\n",
        "testing_labels = []"
      ],
      "execution_count": 7,
      "outputs": []
    },
    {
      "cell_type": "code",
      "metadata": {
        "id": "NTE3H8pRkMnj"
      },
      "source": [
        "#本来他们就是tensor 所以现在需要寻找他们的值，我们就用.numpy()方法实现\r\n",
        "for s,l in train_data:\r\n",
        "  training_sentences.append(str(s.numpy))\r\n",
        "  training_labels.append(l.numpy())\r\n",
        "for s,l in test_data:\r\n",
        "  testing_sentences.append(str(s.numpy()))\r\n",
        "  testing_labels.append(l.numpy())"
      ],
      "execution_count": 8,
      "outputs": []
    },
    {
      "cell_type": "code",
      "metadata": {
        "id": "wrnawJFHlB18"
      },
      "source": [
        "#我们希望标签是numpy格式\r\n",
        "training_labels_final = np.array(training_labels)\r\n",
        "testing_labels_final = np.array(testing_labels)"
      ],
      "execution_count": 9,
      "outputs": []
    },
    {
      "cell_type": "markdown",
      "metadata": {
        "id": "X6yoFQPsl2LN"
      },
      "source": [
        "## 对数据进行词条化"
      ]
    },
    {
      "cell_type": "code",
      "metadata": {
        "id": "V9L9sqrIlwYc"
      },
      "source": [
        "vocab_size = 10000\r\n",
        "embedding_dim = 16\r\n",
        "max_length = 120\r\n",
        "trunc_type = 'post'\r\n",
        "oov_tok = \"<OOV>\""
      ],
      "execution_count": 10,
      "outputs": []
    },
    {
      "cell_type": "code",
      "metadata": {
        "id": "9dIjtfagmIRK"
      },
      "source": [
        "from tensorflow.keras.preprocessing.text import Tokenizer\r\n",
        "from tensorflow.keras.preprocessing.sequence import pad_sequences"
      ],
      "execution_count": 11,
      "outputs": []
    },
    {
      "cell_type": "code",
      "metadata": {
        "id": "m2dMGLA3mWSb"
      },
      "source": [
        "tokenizer = Tokenizer(num_words=vocab_size, oov_token=oov_tok)\r\n",
        "tokenizer.fit_on_texts(training_sentences)\r\n",
        "word_index = tokenizer.word_index\r\n",
        "sequences = tokenizer.texts_to_sequences(training_sentences)\r\n",
        "padded = pad_sequences(sequences, maxlen=max_length, truncating=trunc_type)#这个时候输入数据也就是X,truncating是如果超出maxlen的化，超出部分会被截断，截断的化截断后面\r\n",
        "#因为前面的trunc_type='post"
      ],
      "execution_count": 12,
      "outputs": []
    },
    {
      "cell_type": "code",
      "metadata": {
        "id": "8UiwjA1JnXKb"
      },
      "source": [
        "testing_sequences = tokenizer.texts_to_sequences(testing_sentences)\r\n",
        "testing_padded = pad_sequences(testing_sequences, maxlen=max_length)"
      ],
      "execution_count": 13,
      "outputs": []
    },
    {
      "cell_type": "code",
      "metadata": {
        "id": "LJNbOMhGnzMb"
      },
      "source": [
        "#构建模型,embedding 是嵌入层\r\n",
        "#在句子中意思相近的单词的距离会比较近，因此我们可以在一个高维空间中找到一组相似的向量来表示情感相同的单词\r\n",
        "#这些向量会因为相似的数据标签，而逐渐聚集在一起，所以就可以建立向量与标签之间的关系，这其实SVM很像啊\r\n",
        "#执行嵌入后的结果会得到一个二维的数组，其行和列分别为句子的长度也就是maxlength和embedding_dim的维度，\r\n",
        "model = tf.keras.Sequential([\r\n",
        "                             tf.keras.layers.Embedding(vocab_size,embedding_dim, input_length=max_length),\r\n",
        "                             tf.keras.layers.Flatten(),#然后我们也会像使用二维图像一样将结果展平，针对展平操作还可以使用GloalAveragePooling1D()，如model2所示\r\n",
        "                             tf.keras.layers.Dense(6, activation = 'relu'),\r\n",
        "                             tf.keras.layers.Dense(1,activation='sigmoid')\r\n",
        "])"
      ],
      "execution_count": 14,
      "outputs": []
    },
    {
      "cell_type": "code",
      "metadata": {
        "colab": {
          "base_uri": "https://localhost:8080/"
        },
        "id": "-fC8aq1guf4F",
        "outputId": "70c71140-2d91-4b1f-d014-f7b07263a0d6"
      },
      "source": [
        "model.summary()"
      ],
      "execution_count": 15,
      "outputs": [
        {
          "output_type": "stream",
          "text": [
            "Model: \"sequential\"\n",
            "_________________________________________________________________\n",
            "Layer (type)                 Output Shape              Param #   \n",
            "=================================================================\n",
            "embedding (Embedding)        (None, 120, 16)           160000    \n",
            "_________________________________________________________________\n",
            "flatten (Flatten)            (None, 1920)              0         \n",
            "_________________________________________________________________\n",
            "dense (Dense)                (None, 6)                 11526     \n",
            "_________________________________________________________________\n",
            "dense_1 (Dense)              (None, 1)                 7         \n",
            "=================================================================\n",
            "Total params: 171,533\n",
            "Trainable params: 171,533\n",
            "Non-trainable params: 0\n",
            "_________________________________________________________________\n"
          ],
          "name": "stdout"
        }
      ]
    },
    {
      "cell_type": "code",
      "metadata": {
        "colab": {
          "base_uri": "https://localhost:8080/"
        },
        "id": "okR78EF8BHbH",
        "outputId": "ae8053ac-e862-45db-d6d1-139f2e2283ca"
      },
      "source": [
        "padded.shape"
      ],
      "execution_count": 22,
      "outputs": [
        {
          "output_type": "execute_result",
          "data": {
            "text/plain": [
              "(25000, 120)"
            ]
          },
          "metadata": {
            "tags": []
          },
          "execution_count": 22
        }
      ]
    },
    {
      "cell_type": "code",
      "metadata": {
        "id": "FPQDTER9BPqL"
      },
      "source": [
        "input = tf.keras.Input(shape=(120))"
      ],
      "execution_count": 28,
      "outputs": []
    },
    {
      "cell_type": "code",
      "metadata": {
        "id": "VGU03gYoBZEM"
      },
      "source": [
        "x = tf.keras.layers.Embedding(vocab_size,embedding_dim,input_length=max_length)(input)\r\n",
        "x = tf.keras.layers.GlobalAveragePooling1D()(x)\r\n",
        "x = tf.keras.layers.Dense(6, activation='relu')(x)\r\n",
        "x = tf.keras.layers.Dense(1, activation='sigmoid')(x)\r\n",
        "model = tf.keras.Model(inputs = input, outputs = x)"
      ],
      "execution_count": 31,
      "outputs": []
    },
    {
      "cell_type": "code",
      "metadata": {
        "colab": {
          "base_uri": "https://localhost:8080/"
        },
        "id": "IBPTMqGlCHNS",
        "outputId": "3c826b2f-dc3b-4698-866f-c366b7b32b00"
      },
      "source": [
        "model.summary()"
      ],
      "execution_count": 32,
      "outputs": [
        {
          "output_type": "stream",
          "text": [
            "Model: \"model\"\n",
            "_________________________________________________________________\n",
            "Layer (type)                 Output Shape              Param #   \n",
            "=================================================================\n",
            "input_1 (InputLayer)         [(None, 120)]             0         \n",
            "_________________________________________________________________\n",
            "embedding_6 (Embedding)      (None, 120, 16)           160000    \n",
            "_________________________________________________________________\n",
            "global_average_pooling1d_4 ( (None, 16)                0         \n",
            "_________________________________________________________________\n",
            "dense_8 (Dense)              (None, 6)                 102       \n",
            "_________________________________________________________________\n",
            "dense_9 (Dense)              (None, 1)                 7         \n",
            "=================================================================\n",
            "Total params: 160,109\n",
            "Trainable params: 160,109\n",
            "Non-trainable params: 0\n",
            "_________________________________________________________________\n"
          ],
          "name": "stdout"
        }
      ]
    },
    {
      "cell_type": "code",
      "metadata": {
        "id": "VWVTVB36xSeL"
      },
      "source": [
        "model2 = tf.keras.Sequential([\r\n",
        "                              tf.keras.layers.Embedding(vocab_size, embedding_dim, input_length=max_length),\r\n",
        "                              tf.keras.layers.GlobalAveragePooling1D(),#在每个向量的维度上取平均值进行输出\r\n",
        "                              #tf.keras.layers.Bidirectional(tf.keras.layers.LSTM(32,return_sequences=True)),\r\n",
        "                              tf.keras.layers.Dense(6,activation='relu'),\r\n",
        "                              tf.keras.layers.Dense(1,activation='sigmoid')\r\n",
        "])"
      ],
      "execution_count": 16,
      "outputs": []
    },
    {
      "cell_type": "code",
      "metadata": {
        "colab": {
          "base_uri": "https://localhost:8080/"
        },
        "id": "KWngT-tyulwa",
        "outputId": "7fe66b6d-8072-4d72-b765-7421fb9a70d2"
      },
      "source": [
        "model2.summary()#对比model的Flatten层的output_shape与Global_average_pooling1D的output_shape 我们可以发现后者的更小\r\n",
        "#这样的化 整个模型的执行速度会更快且更加简洁"
      ],
      "execution_count": 17,
      "outputs": [
        {
          "output_type": "stream",
          "text": [
            "Model: \"sequential_1\"\n",
            "_________________________________________________________________\n",
            "Layer (type)                 Output Shape              Param #   \n",
            "=================================================================\n",
            "embedding_1 (Embedding)      (None, 120, 16)           160000    \n",
            "_________________________________________________________________\n",
            "global_average_pooling1d (Gl (None, 16)                0         \n",
            "_________________________________________________________________\n",
            "dense_2 (Dense)              (None, 6)                 102       \n",
            "_________________________________________________________________\n",
            "dense_3 (Dense)              (None, 1)                 7         \n",
            "=================================================================\n",
            "Total params: 160,109\n",
            "Trainable params: 160,109\n",
            "Non-trainable params: 0\n",
            "_________________________________________________________________\n"
          ],
          "name": "stdout"
        }
      ]
    },
    {
      "cell_type": "code",
      "metadata": {
        "id": "DMPa974ty4J3"
      },
      "source": [
        "#编译模型\r\n",
        "model.compile(loss='binary_crossentropy', optimizer='adam', metrics=['accuracy'])"
      ],
      "execution_count": 18,
      "outputs": []
    },
    {
      "cell_type": "code",
      "metadata": {
        "id": "4at2rc3A0lhG"
      },
      "source": [
        "model2.compile(loss='binary_crossentropy', optimizer='adam', metrics = ['accuracy'])"
      ],
      "execution_count": 19,
      "outputs": []
    },
    {
      "cell_type": "code",
      "metadata": {
        "colab": {
          "base_uri": "https://localhost:8080/"
        },
        "id": "elfKD5QN0wte",
        "outputId": "b8d2a1e8-3663-422e-cbf8-49247df6cf2f"
      },
      "source": [
        "num_epochs = 10\r\n",
        "model.fit(padded,\r\n",
        "          training_labels_final,\r\n",
        "          epochs=num_epochs,\r\n",
        "          validation_data=(testing_padded, testing_labels_final))"
      ],
      "execution_count": 20,
      "outputs": [
        {
          "output_type": "stream",
          "text": [
            "Epoch 1/10\n",
            "782/782 [==============================] - 6s 6ms/step - loss: 0.6057 - accuracy: 0.6447 - val_loss: 0.3891 - val_accuracy: 0.8374\n",
            "Epoch 2/10\n",
            "782/782 [==============================] - 5s 6ms/step - loss: 0.2497 - accuracy: 0.9045 - val_loss: 0.4092 - val_accuracy: 0.8167\n",
            "Epoch 3/10\n",
            "782/782 [==============================] - 4s 6ms/step - loss: 0.1004 - accuracy: 0.9784 - val_loss: 0.4351 - val_accuracy: 0.8192\n",
            "Epoch 4/10\n",
            "782/782 [==============================] - 4s 6ms/step - loss: 0.0268 - accuracy: 0.9974 - val_loss: 0.4808 - val_accuracy: 0.8175\n",
            "Epoch 5/10\n",
            "782/782 [==============================] - 4s 6ms/step - loss: 0.0078 - accuracy: 0.9993 - val_loss: 0.5313 - val_accuracy: 0.8157\n",
            "Epoch 6/10\n",
            "782/782 [==============================] - 4s 6ms/step - loss: 0.0029 - accuracy: 0.9998 - val_loss: 0.5695 - val_accuracy: 0.8156\n",
            "Epoch 7/10\n",
            "782/782 [==============================] - 4s 6ms/step - loss: 0.0012 - accuracy: 1.0000 - val_loss: 0.6040 - val_accuracy: 0.8168\n",
            "Epoch 8/10\n",
            "782/782 [==============================] - 5s 6ms/step - loss: 5.5298e-04 - accuracy: 1.0000 - val_loss: 0.6311 - val_accuracy: 0.8168\n",
            "Epoch 9/10\n",
            "782/782 [==============================] - 5s 6ms/step - loss: 3.0701e-04 - accuracy: 1.0000 - val_loss: 0.6616 - val_accuracy: 0.8173\n",
            "Epoch 10/10\n",
            "782/782 [==============================] - 4s 6ms/step - loss: 1.9144e-04 - accuracy: 1.0000 - val_loss: 0.6891 - val_accuracy: 0.8172\n"
          ],
          "name": "stdout"
        },
        {
          "output_type": "execute_result",
          "data": {
            "text/plain": [
              "<tensorflow.python.keras.callbacks.History at 0x7f22f0021fd0>"
            ]
          },
          "metadata": {
            "tags": []
          },
          "execution_count": 20
        }
      ]
    },
    {
      "cell_type": "code",
      "metadata": {
        "colab": {
          "base_uri": "https://localhost:8080/"
        },
        "id": "l2611DZV2BbG",
        "outputId": "f613411e-5482-49a3-b801-fd8b3e2dc570"
      },
      "source": [
        "num_epochs = 10\r\n",
        "model2.fit(padded,\r\n",
        "          training_labels_final,\r\n",
        "          epochs=num_epochs,\r\n",
        "          validation_data=(testing_padded, testing_labels_final))"
      ],
      "execution_count": 21,
      "outputs": [
        {
          "output_type": "stream",
          "text": [
            "Epoch 1/10\n",
            "782/782 [==============================] - 5s 6ms/step - loss: 0.6545 - accuracy: 0.6028 - val_loss: 0.4738 - val_accuracy: 0.8330\n",
            "Epoch 2/10\n",
            "782/782 [==============================] - 5s 6ms/step - loss: 0.4352 - accuracy: 0.8504 - val_loss: 0.3935 - val_accuracy: 0.8496\n",
            "Epoch 3/10\n",
            "782/782 [==============================] - 4s 6ms/step - loss: 0.3362 - accuracy: 0.8879 - val_loss: 0.3629 - val_accuracy: 0.8538\n",
            "Epoch 4/10\n",
            "782/782 [==============================] - 5s 6ms/step - loss: 0.2780 - accuracy: 0.9084 - val_loss: 0.3702 - val_accuracy: 0.8446\n",
            "Epoch 5/10\n",
            "782/782 [==============================] - 5s 6ms/step - loss: 0.2327 - accuracy: 0.9270 - val_loss: 0.3818 - val_accuracy: 0.8392\n",
            "Epoch 6/10\n",
            "782/782 [==============================] - 5s 6ms/step - loss: 0.2064 - accuracy: 0.9356 - val_loss: 0.4045 - val_accuracy: 0.8380\n",
            "Epoch 7/10\n",
            "782/782 [==============================] - 5s 6ms/step - loss: 0.1821 - accuracy: 0.9444 - val_loss: 0.4472 - val_accuracy: 0.8331\n",
            "Epoch 8/10\n",
            "782/782 [==============================] - 5s 6ms/step - loss: 0.1671 - accuracy: 0.9527 - val_loss: 0.4740 - val_accuracy: 0.8294\n",
            "Epoch 9/10\n",
            "782/782 [==============================] - 4s 6ms/step - loss: 0.1484 - accuracy: 0.9590 - val_loss: 0.5225 - val_accuracy: 0.8265\n",
            "Epoch 10/10\n",
            "782/782 [==============================] - 5s 6ms/step - loss: 0.1382 - accuracy: 0.9633 - val_loss: 0.5740 - val_accuracy: 0.8217\n"
          ],
          "name": "stdout"
        },
        {
          "output_type": "execute_result",
          "data": {
            "text/plain": [
              "<tensorflow.python.keras.callbacks.History at 0x7f2291c03a50>"
            ]
          },
          "metadata": {
            "tags": []
          },
          "execution_count": 21
        }
      ]
    },
    {
      "cell_type": "markdown",
      "metadata": {
        "id": "Hssfu5ct4DiP"
      },
      "source": [
        "## 更加深入的讨论词嵌入"
      ]
    },
    {
      "cell_type": "code",
      "metadata": {
        "colab": {
          "base_uri": "https://localhost:8080/"
        },
        "id": "VPs1OeyE2jkk",
        "outputId": "8a94e689-268e-4ab6-85be-8fb913d3779c"
      },
      "source": [
        "#首先获得神经网络第0层的权值\r\n",
        "e = model.layers[0]\r\n",
        "weights = e.get_weights()[0]\r\n",
        "weights.shape #shape:(vocab_size, embedding_dim) 我们有10000个单词，每个单词被转换为了16个向量"
      ],
      "execution_count": 25,
      "outputs": [
        {
          "output_type": "execute_result",
          "data": {
            "text/plain": [
              "(10000, 16)"
            ]
          },
          "metadata": {
            "tags": []
          },
          "execution_count": 25
        }
      ]
    },
    {
      "cell_type": "code",
      "metadata": {
        "id": "3CdLp7cE5BGL"
      },
      "source": [
        "#为了对其进行可视化，我们需要将word_index中这个字典的value和key进行调换"
      ],
      "execution_count": null,
      "outputs": []
    },
    {
      "cell_type": "code",
      "metadata": {
        "id": "ukc4q8EG66TQ"
      },
      "source": [
        "reverse_word_index = dict([(value,key) for (key,value) in word_index.items()])"
      ],
      "execution_count": 26,
      "outputs": []
    },
    {
      "cell_type": "code",
      "metadata": {
        "id": "pZTnn3SR8wjg"
      },
      "source": [
        "#我们将更改后的word_index分别写入out_v与out_m\r\n",
        "import io\r\n",
        "out_v = io.open('vecs.tsv', 'w', encoding = 'utf-8')\r\n",
        "out_m = io.open('meta.tsv', 'w', encoding = 'utf-8')\r\n",
        "for word_num in range(1, vocab_size):\r\n",
        "  word = reverse_word_index[word_num]\r\n",
        "  embeddings = weights[word_num]\r\n",
        "  out_m.write(word+'\\n')#写入每个单词\r\n",
        "  out_v.write('\\t'.join([str(x) for x in embeddings])+'\\n')#写入每个单词的向量\r\n",
        "out_v.close()\r\n",
        "out_m.close()"
      ],
      "execution_count": 27,
      "outputs": []
    },
    {
      "cell_type": "code",
      "metadata": {
        "id": "jNqSoISN93aQ"
      },
      "source": [
        "#然后进入 https://projector.tensorflow.org 进行可视化"
      ],
      "execution_count": 28,
      "outputs": []
    },
    {
      "cell_type": "code",
      "metadata": {
        "id": "xo_VSZmy-asp"
      },
      "source": [
        ""
      ],
      "execution_count": null,
      "outputs": []
    }
  ]
}